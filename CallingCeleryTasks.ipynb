{
 "cells": [
  {
   "cell_type": "markdown",
   "id": "fatal-acceptance",
   "metadata": {},
   "source": [
    "https://docs.celeryproject.org/en/stable/getting-started/next-steps.html#the-primitives"
   ]
  },
  {
   "cell_type": "code",
   "execution_count": 27,
   "id": "motivated-involvement",
   "metadata": {},
   "outputs": [],
   "source": [
    "from celery import chain"
   ]
  },
  {
   "cell_type": "code",
   "execution_count": 28,
   "id": "alleged-therapy",
   "metadata": {},
   "outputs": [
    {
     "name": "stdout",
     "output_type": "stream",
     "text": [
      "basic1\tbasic3\t\t\t proj\t\ttest_celery\r\n",
      "basic2\tfastapi_rabbitmq_celery  simple_celery\tUntitled.ipynb\r\n"
     ]
    }
   ],
   "source": [
    "!ls"
   ]
  },
  {
   "cell_type": "code",
   "execution_count": 29,
   "id": "fluid-harrison",
   "metadata": {},
   "outputs": [],
   "source": [
    "#celery -A simple_celery worker -l info"
   ]
  },
  {
   "cell_type": "code",
   "execution_count": 30,
   "id": "linear-provider",
   "metadata": {},
   "outputs": [],
   "source": [
    "from simple_celery.tasks import add, mul"
   ]
  },
  {
   "cell_type": "code",
   "execution_count": 31,
   "id": "diagnostic-hartford",
   "metadata": {},
   "outputs": [
    {
     "data": {
      "text/plain": [
       "4"
      ]
     },
     "execution_count": 31,
     "metadata": {},
     "output_type": "execute_result"
    }
   ],
   "source": [
    "res = add.delay(2,2)\n",
    "res.get()"
   ]
  },
  {
   "cell_type": "markdown",
   "id": "informal-dictionary",
   "metadata": {},
   "source": [
    "## Signatures"
   ]
  },
  {
   "cell_type": "code",
   "execution_count": 32,
   "id": "direct-weapon",
   "metadata": {},
   "outputs": [
    {
     "data": {
      "text/plain": [
       "4"
      ]
     },
     "execution_count": 32,
     "metadata": {},
     "output_type": "execute_result"
    }
   ],
   "source": [
    "s1 = add.signature((2, 2), countdown=10)\n",
    "res = s1.delay()\n",
    "res.get()"
   ]
  },
  {
   "cell_type": "markdown",
   "id": "incoming-marina",
   "metadata": {},
   "source": [
    "## Partials"
   ]
  },
  {
   "cell_type": "code",
   "execution_count": 33,
   "id": "peaceful-finnish",
   "metadata": {},
   "outputs": [
    {
     "data": {
      "text/plain": [
       "4"
      ]
     },
     "execution_count": 33,
     "metadata": {},
     "output_type": "execute_result"
    }
   ],
   "source": [
    "s1 = add.s(2)\n",
    "res = s1.delay(2)\n",
    "res.get()"
   ]
  },
  {
   "cell_type": "markdown",
   "id": "actual-korea",
   "metadata": {},
   "source": [
    "## The Primitives: \n",
    "### group,  chain, chord,   map, starmap, chunks\n",
    "These primitives are signature objects themselves, so they can be combined in any number of ways to compose complex work-flows."
   ]
  },
  {
   "cell_type": "markdown",
   "id": "unnecessary-error",
   "metadata": {},
   "source": [
    "## Groups\n",
    "A group calls a list of tasks in parallel, and it returns a special result instance that lets you inspect the results as a group, and retrieve the return values in order."
   ]
  },
  {
   "cell_type": "code",
   "execution_count": 34,
   "id": "perceived-potter",
   "metadata": {},
   "outputs": [],
   "source": [
    "from celery import group\n",
    "from simple_celery.tasks import add, mul"
   ]
  },
  {
   "cell_type": "code",
   "execution_count": 35,
   "id": "macro-companion",
   "metadata": {},
   "outputs": [
    {
     "data": {
      "text/plain": [
       "[0, 2, 4, 6, 8, 10, 12, 14, 16, 18]"
      ]
     },
     "execution_count": 35,
     "metadata": {},
     "output_type": "execute_result"
    }
   ],
   "source": [
    "group(add.s(i,i) for i in range(10))().get()"
   ]
  },
  {
   "cell_type": "markdown",
   "id": "changing-hollywood",
   "metadata": {},
   "source": [
    "### Partial group"
   ]
  },
  {
   "cell_type": "code",
   "execution_count": 36,
   "id": "molecular-appointment",
   "metadata": {},
   "outputs": [
    {
     "data": {
      "text/plain": [
       "[10, 11, 12, 13, 14, 15, 16, 17, 18, 19]"
      ]
     },
     "execution_count": 36,
     "metadata": {},
     "output_type": "execute_result"
    }
   ],
   "source": [
    "g = group(add.s(i) for i in range(10))\n",
    "g(10).get()"
   ]
  },
  {
   "cell_type": "markdown",
   "id": "wired-voluntary",
   "metadata": {},
   "source": [
    "## Chains\n",
    "Tasks can be linked together so that after one task returns the other is called:"
   ]
  },
  {
   "cell_type": "code",
   "execution_count": 37,
   "id": "packed-poland",
   "metadata": {},
   "outputs": [],
   "source": [
    "from celery import chain\n",
    "from simple_celery.tasks import add, mul"
   ]
  },
  {
   "cell_type": "code",
   "execution_count": 38,
   "id": "hired-parade",
   "metadata": {},
   "outputs": [
    {
     "data": {
      "text/plain": [
       "64"
      ]
     },
     "execution_count": 38,
     "metadata": {},
     "output_type": "execute_result"
    }
   ],
   "source": [
    "# (4 + 4) * 8\n",
    "chain(add.s(4, 4) | mul.s(8))().get()"
   ]
  },
  {
   "cell_type": "markdown",
   "id": "clinical-medicaid",
   "metadata": {},
   "source": [
    "or a partial chain:"
   ]
  },
  {
   "cell_type": "code",
   "execution_count": 39,
   "id": "proved-gross",
   "metadata": {},
   "outputs": [
    {
     "data": {
      "text/plain": [
       "64"
      ]
     },
     "execution_count": 39,
     "metadata": {},
     "output_type": "execute_result"
    }
   ],
   "source": [
    "# (? + 4) * 8\n",
    "g = chain(add.s(4) | mul.s(8))\n",
    "g(4).get()"
   ]
  },
  {
   "cell_type": "markdown",
   "id": "fifth-gossip",
   "metadata": {},
   "source": [
    "Chains can also be written like this:"
   ]
  },
  {
   "cell_type": "code",
   "execution_count": 40,
   "id": "intelligent-escape",
   "metadata": {},
   "outputs": [
    {
     "data": {
      "text/plain": [
       "64"
      ]
     },
     "execution_count": 40,
     "metadata": {},
     "output_type": "execute_result"
    }
   ],
   "source": [
    "(add.s(4, 4) | mul.s(8))().get()"
   ]
  },
  {
   "cell_type": "markdown",
   "id": "fluid-transparency",
   "metadata": {},
   "source": [
    "## Chords\n",
    "A chord is a group with a callback:"
   ]
  },
  {
   "cell_type": "code",
   "execution_count": 41,
   "id": "racial-business",
   "metadata": {},
   "outputs": [],
   "source": [
    "from celery import chord\n",
    "from simple_celery.tasks import add, mul, xsum"
   ]
  },
  {
   "cell_type": "code",
   "execution_count": 42,
   "id": "banned-packaging",
   "metadata": {},
   "outputs": [
    {
     "data": {
      "text/plain": [
       "90"
      ]
     },
     "execution_count": 42,
     "metadata": {},
     "output_type": "execute_result"
    }
   ],
   "source": [
    "chord((add.s(i, i) for i in range(10)), xsum.s())().get()"
   ]
  },
  {
   "cell_type": "markdown",
   "id": "monthly-character",
   "metadata": {},
   "source": [
    "A group chained to another task will be automatically converted to a chord:"
   ]
  },
  {
   "cell_type": "code",
   "execution_count": 43,
   "id": "executive-cleaners",
   "metadata": {},
   "outputs": [
    {
     "data": {
      "text/plain": [
       "90"
      ]
     },
     "execution_count": 43,
     "metadata": {},
     "output_type": "execute_result"
    }
   ],
   "source": [
    "(group(add.s(i, i) for i in range(10)) | xsum.s())().get()"
   ]
  },
  {
   "cell_type": "markdown",
   "id": "further-thirty",
   "metadata": {},
   "source": [
    "## Routing\n",
    "Celery supports all of the routing facilities provided by AMQP, but it also supports simple routing where messages are sent to named queues.\n",
    "The task_routes setting enables you to route tasks by name and keep everything centralized in one location"
   ]
  },
  {
   "cell_type": "markdown",
   "id": "spatial-switch",
   "metadata": {},
   "source": [
    "## Remote Control\n",
    "If you’re using RabbitMQ (AMQP), Redis, or Qpid as the broker then you can control and inspect the worker at runtime.\n",
    "\n",
    "For example you can see what tasks the worker is currently working on:\n",
    "\n",
    "$ celery -A proj inspect active"
   ]
  },
  {
   "cell_type": "markdown",
   "id": "closed-occasions",
   "metadata": {},
   "source": [
    "## Timezone\n",
    "All times and dates, internally and in messages use the UTC timezone.\n",
    "When the worker receives a message, for example with a countdown set it converts that UTC time to local time. If you wish to use a different timezone than the system timezone then you must configure that using the timezone setting:\n",
    "\n",
    "app.conf.timezone = 'Europe/London'"
   ]
  },
  {
   "cell_type": "markdown",
   "id": "scheduled-forward",
   "metadata": {},
   "source": [
    "## Optimization\n",
    "The default configuration isn’t optimized for throughput.\n",
    "If you have strict fair scheduling requirements, or want to optimize for throughput then you should read the Optimizing Guide."
   ]
  },
  {
   "cell_type": "markdown",
   "id": "organic-computer",
   "metadata": {},
   "source": [
    "## Canvas Guide\n",
    "https://docs.celeryproject.org/en/stable/userguide/canvas.html#guide-canvas"
   ]
  },
  {
   "cell_type": "code",
   "execution_count": null,
   "id": "celtic-uruguay",
   "metadata": {},
   "outputs": [],
   "source": []
  }
 ],
 "metadata": {
  "kernelspec": {
   "display_name": "venv3.6",
   "language": "python",
   "name": "venv3.6"
  },
  "language_info": {
   "codemirror_mode": {
    "name": "ipython",
    "version": 3
   },
   "file_extension": ".py",
   "mimetype": "text/x-python",
   "name": "python",
   "nbconvert_exporter": "python",
   "pygments_lexer": "ipython3",
   "version": "3.6.9"
  }
 },
 "nbformat": 4,
 "nbformat_minor": 5
}
